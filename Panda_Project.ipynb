{
  "nbformat": 4,
  "nbformat_minor": 0,
  "metadata": {
    "colab": {
      "provenance": [],
      "authorship_tag": "ABX9TyNSPV9bS8h/SpTgAAOItO70",
      "include_colab_link": true
    },
    "kernelspec": {
      "name": "python3",
      "display_name": "Python 3"
    },
    "language_info": {
      "name": "python"
    }
  },
  "cells": [
    {
      "cell_type": "markdown",
      "metadata": {
        "id": "view-in-github",
        "colab_type": "text"
      },
      "source": [
        "<a href=\"https://colab.research.google.com/github/huskyncu/PandaProject/blob/main/Panda_Project.ipynb\" target=\"_parent\"><img src=\"https://colab.research.google.com/assets/colab-badge.svg\" alt=\"Open In Colab\"/></a>"
      ]
    },
    {
      "cell_type": "markdown",
      "source": [
        "# 多維陣列練習"
      ],
      "metadata": {
        "id": "HxtPP0-up2Ff"
      }
    },
    {
      "cell_type": "markdown",
      "source": [
        "## 創建一個一維陣列並改成多維陣列"
      ],
      "metadata": {
        "id": "X5Ei5i9VVw6J"
      }
    },
    {
      "cell_type": "code",
      "execution_count": null,
      "metadata": {
        "id": "L46xdsy-XmjP"
      },
      "outputs": [],
      "source": [
        "lines = [\n",
        "     'Mark 腎功能不良 56 男 Norfloxacin 800 阿基里斯腱',\n",
        "     'Alan 腎功能不良 77 男 Ciprofloxacin 1000 阿基里斯腱',\n",
        "     'John 腎功能不良 9 男 Ciprofloxacin 500 阿基里斯腱',\n",
        "     'Alison 併用類固醇 40 女 Pefloxacin 1600 阿基里斯腱',\n",
        "     'Ray 併用類固醇 67 男 Ofloxacin 1600 阿基里斯腱',\n",
        "     'Andy 併用類固醇 67 男 Ciprofloxacin 1500 阿基里斯腱',\n",
        "     'Anna 併用類固醇 76 女 Ciprofloxacin 500 阿基里斯腱',\n",
        "     'Eric 併用類固醇 62 男 Ciprofloxacin 500 阿基里斯腱',\n",
        "     'Ken 併用類固醇 67 男 Levofloxacin 500 阿基里斯腱', \n",
        "     'Kai 運動或活動量大 41 男 Levofloxacin 500 阿基里斯腱',\n",
        "     'Ann 運動或活動量大 76 女 Ciprofloxacin 500 阿基里斯腱', \n",
        "     'Cindy 運動或活動量大 42 女 Ciprofloxacin 0 手、髕骨、阿肌里斯腱', \n",
        "     'Caris 運動或活動量大 91 男 Levofloxacin 500 阿基里斯腱', \n",
        "     'Akashi 運動或活動量大 37 男 Ciprofloxacin 0 髕骨', \n",
        "     'Tairo 運動或活動量大 63 男 Ciprofloxacin 800 股直肌',\n",
        "      'Tex 運動或活動量大 58 男 Levofloxacin 750 臀部', \n",
        "      'Yades 糖尿病 32 男 Ciprofloxacin 1000 內收大肌',\n",
        "      'Annis 糖尿病 50 女 Ciprofloxacin 0 阿基里斯腱',\n",
        "      'Isabelle 風濕性疾病 81 女 Levofloxacin 0 阿基里斯腱']\n",
        "\n"
      ]
    },
    {
      "cell_type": "markdown",
      "source": [
        "\n",
        "請你實作字串分割，範例輸出如下：\n",
        "```\n",
        "[\n",
        " ['Mark', '腎功能不良', 56, '男', 'Norfloxacin', 800, '阿基里斯腱'], \n",
        " ['Alan', '腎功能不良',77, '男', 'Ciprofloxacin', 1000, '阿基里斯腱'], \n",
        " ['John', '腎功能不良', 9, '男', 'Ciprofloxacin', 500, '阿基里斯腱'],\n",
        "  ... \n",
        "```\n",
        "請在下方實作程式碼："
      ],
      "metadata": {
        "id": "3jbdfSJCdFbh"
      }
    },
    {
      "cell_type": "code",
      "source": [],
      "metadata": {
        "id": "GjSqvf98Var9"
      },
      "execution_count": null,
      "outputs": []
    },
    {
      "cell_type": "markdown",
      "source": [
        "請你試著將二維陣列轉換成Pandas的DataFrame，你可以做完後用Filter 使用過濾跟篩選功能，參考輸出如下：\n",
        "\n",
        "請在下方實作程式碼："
      ],
      "metadata": {
        "id": "RcMlkD0jQ8tM"
      }
    },
    {
      "cell_type": "code",
      "source": [],
      "metadata": {
        "id": "YfI0i84LQ7ze"
      },
      "execution_count": null,
      "outputs": []
    },
    {
      "cell_type": "markdown",
      "source": [
        "## part1: 程式實踐功能：查詢功能\n",
        "\n",
        "請實作輸入病患名字並查詢該病患資料，若查到則印出該名字的dataframe：\n",
        "\n",
        "若查無此人，就保持DataFrame沒有任何東西的狀態\n",
        "\n",
        "請在下方實作程式碼："
      ],
      "metadata": {
        "id": "z8vL0wVuZQo_"
      }
    },
    {
      "cell_type": "code",
      "source": [],
      "metadata": {
        "id": "tcc1U3_gbefJ"
      },
      "execution_count": null,
      "outputs": []
    },
    {
      "cell_type": "markdown",
      "source": [
        "## part2: 程式實踐功能：篩選功能\n",
        "* 你的程式能夠根據：\n",
        "  * 輸入：特定危險因子\n",
        "  * 輸入：篩選年齡下限\n",
        "  * 輸入：篩選年齡上限\n",
        "  * 輸入：特定藥物\n",
        "  * 輸入：特定性別\n",
        "  * 輸入：特定劑量下限\n",
        "  * 輸入：篩選劑量上限\n",
        "  * 輸入：特定部位(可複選 部位名稱)\n",
        "  去篩選出你想要的資料用dataframe印出來\n",
        "\n",
        "\n",
        "欲察看該欄有幾個元素，可使用```df['column_name'].unique()```，如果需要存取可以改將其改成list型態。\n",
        "\n",
        "請在下方撰寫你的程式碼："
      ],
      "metadata": {
        "id": "ERU3JNCMfi3L"
      }
    },
    {
      "cell_type": "code",
      "source": [],
      "metadata": {
        "id": "MC2kfs6ufzfK"
      },
      "execution_count": null,
      "outputs": []
    },
    {
      "cell_type": "markdown",
      "source": [
        "### part3：程式實踐功能：排序功能\n",
        "請根據前面學到的排序，讓程式可根據以下優先順序排序：\n",
        "* 請實作排序功能，讓使用者選擇要排序的資料\n",
        "  *   全部資料\n",
        "  *   篩選資料\n",
        "* 依據下列去排序。\n",
        "  *   年紀\n",
        "  *   劑量\n",
        "* 再讓使用者選擇由小到大還由大到小。"
      ],
      "metadata": {
        "id": "pxuWcXj9QQ1X"
      }
    },
    {
      "cell_type": "code",
      "source": [],
      "metadata": {
        "id": "68--Bxs3QUyn"
      },
      "execution_count": null,
      "outputs": []
    },
    {
      "cell_type": "markdown",
      "source": [
        "## part 4: 程式實踐功能：分析功能\n",
        "* 可根據你的篩選功能，以程式輸出回答以下問題。\n",
        "    1. 請問哪個危險因子的平均年齡層最低？\n",
        "    2. 請問哪個藥物使用的病患最多？\n",
        "    3. 請問部位的部分，阿基里斯腱佔全部病患多少比例？\n",
        "    4. 想請問哪個危險因子的平均使用劑量最高？\n",
        "    5. 可自行挑一個點來分析。"
      ],
      "metadata": {
        "id": "6g3PYW0GZMBw"
      }
    },
    {
      "cell_type": "markdown",
      "source": [
        "第一題"
      ],
      "metadata": {
        "id": "kUgFf9Ljqyl1"
      }
    },
    {
      "cell_type": "code",
      "source": [],
      "metadata": {
        "id": "rhaXEC5SbbOm"
      },
      "execution_count": null,
      "outputs": []
    },
    {
      "cell_type": "markdown",
      "source": [
        "第二題"
      ],
      "metadata": {
        "id": "xkqB7ldUq0Qt"
      }
    },
    {
      "cell_type": "code",
      "source": [],
      "metadata": {
        "id": "GiKDhjRQhC4P"
      },
      "execution_count": null,
      "outputs": []
    },
    {
      "cell_type": "markdown",
      "source": [
        "第三題"
      ],
      "metadata": {
        "id": "0fNr_h-Cq1zE"
      }
    },
    {
      "cell_type": "code",
      "source": [],
      "metadata": {
        "id": "hPWsPZ7_g-or"
      },
      "execution_count": null,
      "outputs": []
    },
    {
      "cell_type": "markdown",
      "source": [
        "第四題"
      ],
      "metadata": {
        "id": "Mx6WElOCq39o"
      }
    },
    {
      "cell_type": "code",
      "source": [],
      "metadata": {
        "id": "aKFI1X3_nWpu"
      },
      "execution_count": null,
      "outputs": []
    }
  ]
}