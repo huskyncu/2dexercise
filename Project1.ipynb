{
  "nbformat": 4,
  "nbformat_minor": 0,
  "metadata": {
    "colab": {
      "provenance": []
    },
    "kernelspec": {
      "name": "python3",
      "display_name": "Python 3"
    },
    "language_info": {
      "name": "python"
    }
  },
  "cells": [
    {
      "cell_type": "markdown",
      "source": [
        "# 多維陣列練習"
      ],
      "metadata": {
        "id": "HxtPP0-up2Ff"
      }
    },
    {
      "cell_type": "markdown",
      "source": [
        "## 創建一個一維陣列並改成多維陣列"
      ],
      "metadata": {
        "id": "X5Ei5i9VVw6J"
      }
    },
    {
      "cell_type": "code",
      "execution_count": null,
      "metadata": {
        "id": "L46xdsy-XmjP"
      },
      "outputs": [],
      "source": [
        "lines = [\n",
        "     'Mark 腎功能不良 56 男 Norfloxacin 800 阿基里斯腱',\n",
        "     'Alan 腎功能不良 77 男 Ciprofloxacin 1000 阿基里斯腱',\n",
        "     'John 腎功能不良 9 男 Ciprofloxacin 500 阿基里斯腱',\n",
        "     'Alison 併用類固醇 40 女 Pefloxacin 1600 阿基里斯腱',\n",
        "     'Ray 併用類固醇 67 男 Ofloxacin 1600 阿基里斯腱',\n",
        "     'Andy 併用類固醇 67 男 Ciprofloxacin 1500 阿基里斯腱',\n",
        "     'Anna 併用類固醇 76 女 Ciprofloxacin 500 阿基里斯腱',\n",
        "     'Eric 併用類固醇 62 男 Ciprofloxacin 500 阿基里斯腱',\n",
        "     'Ken 併用類固醇 67 男 Levofloxacin 500 阿基里斯腱', \n",
        "     'Kai 運動或活動量大 41 男 Levofloxacin 500 阿基里斯腱',\n",
        "     'Ann 運動或活動量大 76 女 Ciprofloxacin 500 阿基里斯腱', \n",
        "     'Cindy 運動或活動量大 42 女 Ciprofloxacin 0 手、髕骨、阿肌里斯腱', \n",
        "     'Caris 運動或活動量大 91 男 Levofloxacin 500 阿基里斯腱', \n",
        "     'Akashi 運動或活動量大 37 男 Ciprofloxacin 0 髕骨', \n",
        "     'Tairo 運動或活動量大 63 男 Ciprofloxacin 800 股直肌',\n",
        "      'Tex 運動或活動量大 58 男 Levofloxacin 750 臀部', \n",
        "      'Yades 糖尿病 32 男 Ciprofloxacin 1000 內收大肌',\n",
        "      'Annis 糖尿病 50 女 Ciprofloxacin 0 阿基里斯腱',\n",
        "      'Isabelle 風濕性疾病 81 女 Levofloxacin 0 阿基里斯腱']\n",
        "\n"
      ]
    },
    {
      "cell_type": "markdown",
      "source": [
        "\n",
        "請你實作字串分割，範例輸出如下：\n",
        "```\n",
        "[\n",
        " ['Mark', '腎功能不良', 56, '男', 'Norfloxacin', 800, '阿基里斯腱'], \n",
        " ['Alan', '腎功能不良',77, '男', 'Ciprofloxacin', 1000, '阿基里斯腱'], \n",
        " ['John', '腎功能不良', 9, '男', 'Ciprofloxacin', 500, '阿基里斯腱'],\n",
        "  ... \n",
        "```\n",
        "請在下方實作程式碼："
      ],
      "metadata": {
        "id": "3jbdfSJCdFbh"
      }
    },
    {
      "cell_type": "code",
      "source": [],
      "metadata": {
        "id": "GjSqvf98Var9"
      },
      "execution_count": null,
      "outputs": []
    },
    {
      "cell_type": "markdown",
      "source": [
        "請你試著將二維陣列轉換成Pandas的DataFrame，你可以做完後用Filter 使用過濾跟篩選功能，參考輸出如下：\n",
        "\n",
        "請在下方實作程式碼："
      ],
      "metadata": {
        "id": "RcMlkD0jQ8tM"
      }
    },
    {
      "cell_type": "code",
      "source": [],
      "metadata": {
        "colab": {
          "base_uri": "https://localhost:8080/",
          "height": 510
        },
        "id": "YfI0i84LQ7ze",
        "outputId": "e840429c-a9bc-4eae-b5bf-aae9523e4f50"
      },
      "execution_count": null,
      "outputs": [
        {
          "output_type": "execute_result",
          "data": {
            "text/plain": [
              "          名字     危險因子  年紀 性別             藥物     劑量          部位\n",
              "0       Mark    腎功能不良  56  男    Norfloxacin  400*2       阿基里斯腱\n",
              "1       Alan    腎功能不良  77  男  Ciprofloxacin  250*4       阿基里斯腱\n",
              "2       John    腎功能不良   9  男  Ciprofloxacin  500*1       阿基里斯腱\n",
              "3     Alison    併用類固醇  40  女     Pefloxacin  400*4       阿基里斯腱\n",
              "4        Ray    併用類固醇  67  男      Ofloxacin  400*4       阿基里斯腱\n",
              "5       Andy    併用類固醇  67  男  Ciprofloxacin  750*2       阿基里斯腱\n",
              "6       Anna    併用類固醇  76  女  Ciprofloxacin  500*1       阿基里斯腱\n",
              "7       Eric    併用類固醇  62  男  Ciprofloxacin  250*2       阿基里斯腱\n",
              "8        Ken    併用類固醇  67  男   Levofloxacin  500*1       阿基里斯腱\n",
              "9        Kai  運動或活動量大  41  男   Levofloxacin  500*1       阿基里斯腱\n",
              "10       Ann  運動或活動量大  76  女  Ciprofloxacin  500*1       阿基里斯腱\n",
              "11     Cindy  運動或活動量大  42  女  Ciprofloxacin      0  手、髕骨、阿肌里斯腱\n",
              "12     Caris  運動或活動量大  91  男   Levofloxacin  500*1       阿基里斯腱\n",
              "13    Akashi  運動或活動量大  37  男  Ciprofloxacin      0          髕骨\n",
              "14     Tairo  運動或活動量大  63  男  Ciprofloxacin  800*1         股直肌\n",
              "15       Tex  運動或活動量大  58  男   Levofloxacin  750*1          臀部\n",
              "16     Yades      糖尿病  32  男  Ciprofloxacin  500*2        內收大肌\n",
              "17     Annis      糖尿病  50  女  Ciprofloxacin      0       阿基里斯腱\n",
              "18  Isabelle    風濕性疾病  81  女   Levofloxacin      0       阿基里斯腱"
            ],
            "text/html": [
              "\n",
              "  <div id=\"df-94202731-d969-4967-bcdd-d92f08c7cdb6\">\n",
              "    <div class=\"colab-df-container\">\n",
              "      <div>\n",
              "<style scoped>\n",
              "    .dataframe tbody tr th:only-of-type {\n",
              "        vertical-align: middle;\n",
              "    }\n",
              "\n",
              "    .dataframe tbody tr th {\n",
              "        vertical-align: top;\n",
              "    }\n",
              "\n",
              "    .dataframe thead th {\n",
              "        text-align: right;\n",
              "    }\n",
              "</style>\n",
              "<table border=\"1\" class=\"dataframe\">\n",
              "  <thead>\n",
              "    <tr style=\"text-align: right;\">\n",
              "      <th></th>\n",
              "      <th>名字</th>\n",
              "      <th>危險因子</th>\n",
              "      <th>年紀</th>\n",
              "      <th>性別</th>\n",
              "      <th>藥物</th>\n",
              "      <th>劑量</th>\n",
              "      <th>部位</th>\n",
              "    </tr>\n",
              "  </thead>\n",
              "  <tbody>\n",
              "    <tr>\n",
              "      <th>0</th>\n",
              "      <td>Mark</td>\n",
              "      <td>腎功能不良</td>\n",
              "      <td>56</td>\n",
              "      <td>男</td>\n",
              "      <td>Norfloxacin</td>\n",
              "      <td>400*2</td>\n",
              "      <td>阿基里斯腱</td>\n",
              "    </tr>\n",
              "    <tr>\n",
              "      <th>1</th>\n",
              "      <td>Alan</td>\n",
              "      <td>腎功能不良</td>\n",
              "      <td>77</td>\n",
              "      <td>男</td>\n",
              "      <td>Ciprofloxacin</td>\n",
              "      <td>250*4</td>\n",
              "      <td>阿基里斯腱</td>\n",
              "    </tr>\n",
              "    <tr>\n",
              "      <th>2</th>\n",
              "      <td>John</td>\n",
              "      <td>腎功能不良</td>\n",
              "      <td>9</td>\n",
              "      <td>男</td>\n",
              "      <td>Ciprofloxacin</td>\n",
              "      <td>500*1</td>\n",
              "      <td>阿基里斯腱</td>\n",
              "    </tr>\n",
              "    <tr>\n",
              "      <th>3</th>\n",
              "      <td>Alison</td>\n",
              "      <td>併用類固醇</td>\n",
              "      <td>40</td>\n",
              "      <td>女</td>\n",
              "      <td>Pefloxacin</td>\n",
              "      <td>400*4</td>\n",
              "      <td>阿基里斯腱</td>\n",
              "    </tr>\n",
              "    <tr>\n",
              "      <th>4</th>\n",
              "      <td>Ray</td>\n",
              "      <td>併用類固醇</td>\n",
              "      <td>67</td>\n",
              "      <td>男</td>\n",
              "      <td>Ofloxacin</td>\n",
              "      <td>400*4</td>\n",
              "      <td>阿基里斯腱</td>\n",
              "    </tr>\n",
              "    <tr>\n",
              "      <th>5</th>\n",
              "      <td>Andy</td>\n",
              "      <td>併用類固醇</td>\n",
              "      <td>67</td>\n",
              "      <td>男</td>\n",
              "      <td>Ciprofloxacin</td>\n",
              "      <td>750*2</td>\n",
              "      <td>阿基里斯腱</td>\n",
              "    </tr>\n",
              "    <tr>\n",
              "      <th>6</th>\n",
              "      <td>Anna</td>\n",
              "      <td>併用類固醇</td>\n",
              "      <td>76</td>\n",
              "      <td>女</td>\n",
              "      <td>Ciprofloxacin</td>\n",
              "      <td>500*1</td>\n",
              "      <td>阿基里斯腱</td>\n",
              "    </tr>\n",
              "    <tr>\n",
              "      <th>7</th>\n",
              "      <td>Eric</td>\n",
              "      <td>併用類固醇</td>\n",
              "      <td>62</td>\n",
              "      <td>男</td>\n",
              "      <td>Ciprofloxacin</td>\n",
              "      <td>250*2</td>\n",
              "      <td>阿基里斯腱</td>\n",
              "    </tr>\n",
              "    <tr>\n",
              "      <th>8</th>\n",
              "      <td>Ken</td>\n",
              "      <td>併用類固醇</td>\n",
              "      <td>67</td>\n",
              "      <td>男</td>\n",
              "      <td>Levofloxacin</td>\n",
              "      <td>500*1</td>\n",
              "      <td>阿基里斯腱</td>\n",
              "    </tr>\n",
              "    <tr>\n",
              "      <th>9</th>\n",
              "      <td>Kai</td>\n",
              "      <td>運動或活動量大</td>\n",
              "      <td>41</td>\n",
              "      <td>男</td>\n",
              "      <td>Levofloxacin</td>\n",
              "      <td>500*1</td>\n",
              "      <td>阿基里斯腱</td>\n",
              "    </tr>\n",
              "    <tr>\n",
              "      <th>10</th>\n",
              "      <td>Ann</td>\n",
              "      <td>運動或活動量大</td>\n",
              "      <td>76</td>\n",
              "      <td>女</td>\n",
              "      <td>Ciprofloxacin</td>\n",
              "      <td>500*1</td>\n",
              "      <td>阿基里斯腱</td>\n",
              "    </tr>\n",
              "    <tr>\n",
              "      <th>11</th>\n",
              "      <td>Cindy</td>\n",
              "      <td>運動或活動量大</td>\n",
              "      <td>42</td>\n",
              "      <td>女</td>\n",
              "      <td>Ciprofloxacin</td>\n",
              "      <td>0</td>\n",
              "      <td>手、髕骨、阿肌里斯腱</td>\n",
              "    </tr>\n",
              "    <tr>\n",
              "      <th>12</th>\n",
              "      <td>Caris</td>\n",
              "      <td>運動或活動量大</td>\n",
              "      <td>91</td>\n",
              "      <td>男</td>\n",
              "      <td>Levofloxacin</td>\n",
              "      <td>500*1</td>\n",
              "      <td>阿基里斯腱</td>\n",
              "    </tr>\n",
              "    <tr>\n",
              "      <th>13</th>\n",
              "      <td>Akashi</td>\n",
              "      <td>運動或活動量大</td>\n",
              "      <td>37</td>\n",
              "      <td>男</td>\n",
              "      <td>Ciprofloxacin</td>\n",
              "      <td>0</td>\n",
              "      <td>髕骨</td>\n",
              "    </tr>\n",
              "    <tr>\n",
              "      <th>14</th>\n",
              "      <td>Tairo</td>\n",
              "      <td>運動或活動量大</td>\n",
              "      <td>63</td>\n",
              "      <td>男</td>\n",
              "      <td>Ciprofloxacin</td>\n",
              "      <td>800*1</td>\n",
              "      <td>股直肌</td>\n",
              "    </tr>\n",
              "    <tr>\n",
              "      <th>15</th>\n",
              "      <td>Tex</td>\n",
              "      <td>運動或活動量大</td>\n",
              "      <td>58</td>\n",
              "      <td>男</td>\n",
              "      <td>Levofloxacin</td>\n",
              "      <td>750*1</td>\n",
              "      <td>臀部</td>\n",
              "    </tr>\n",
              "    <tr>\n",
              "      <th>16</th>\n",
              "      <td>Yades</td>\n",
              "      <td>糖尿病</td>\n",
              "      <td>32</td>\n",
              "      <td>男</td>\n",
              "      <td>Ciprofloxacin</td>\n",
              "      <td>500*2</td>\n",
              "      <td>內收大肌</td>\n",
              "    </tr>\n",
              "    <tr>\n",
              "      <th>17</th>\n",
              "      <td>Annis</td>\n",
              "      <td>糖尿病</td>\n",
              "      <td>50</td>\n",
              "      <td>女</td>\n",
              "      <td>Ciprofloxacin</td>\n",
              "      <td>0</td>\n",
              "      <td>阿基里斯腱</td>\n",
              "    </tr>\n",
              "    <tr>\n",
              "      <th>18</th>\n",
              "      <td>Isabelle</td>\n",
              "      <td>風濕性疾病</td>\n",
              "      <td>81</td>\n",
              "      <td>女</td>\n",
              "      <td>Levofloxacin</td>\n",
              "      <td>0</td>\n",
              "      <td>阿基里斯腱</td>\n",
              "    </tr>\n",
              "  </tbody>\n",
              "</table>\n",
              "</div>\n",
              "      <button class=\"colab-df-convert\" onclick=\"convertToInteractive('df-94202731-d969-4967-bcdd-d92f08c7cdb6')\"\n",
              "              title=\"Convert this dataframe to an interactive table.\"\n",
              "              style=\"display:none;\">\n",
              "        \n",
              "  <svg xmlns=\"http://www.w3.org/2000/svg\" height=\"24px\"viewBox=\"0 0 24 24\"\n",
              "       width=\"24px\">\n",
              "    <path d=\"M0 0h24v24H0V0z\" fill=\"none\"/>\n",
              "    <path d=\"M18.56 5.44l.94 2.06.94-2.06 2.06-.94-2.06-.94-.94-2.06-.94 2.06-2.06.94zm-11 1L8.5 8.5l.94-2.06 2.06-.94-2.06-.94L8.5 2.5l-.94 2.06-2.06.94zm10 10l.94 2.06.94-2.06 2.06-.94-2.06-.94-.94-2.06-.94 2.06-2.06.94z\"/><path d=\"M17.41 7.96l-1.37-1.37c-.4-.4-.92-.59-1.43-.59-.52 0-1.04.2-1.43.59L10.3 9.45l-7.72 7.72c-.78.78-.78 2.05 0 2.83L4 21.41c.39.39.9.59 1.41.59.51 0 1.02-.2 1.41-.59l7.78-7.78 2.81-2.81c.8-.78.8-2.07 0-2.86zM5.41 20L4 18.59l7.72-7.72 1.47 1.35L5.41 20z\"/>\n",
              "  </svg>\n",
              "      </button>\n",
              "      \n",
              "  <style>\n",
              "    .colab-df-container {\n",
              "      display:flex;\n",
              "      flex-wrap:wrap;\n",
              "      gap: 12px;\n",
              "    }\n",
              "\n",
              "    .colab-df-convert {\n",
              "      background-color: #E8F0FE;\n",
              "      border: none;\n",
              "      border-radius: 50%;\n",
              "      cursor: pointer;\n",
              "      display: none;\n",
              "      fill: #1967D2;\n",
              "      height: 32px;\n",
              "      padding: 0 0 0 0;\n",
              "      width: 32px;\n",
              "    }\n",
              "\n",
              "    .colab-df-convert:hover {\n",
              "      background-color: #E2EBFA;\n",
              "      box-shadow: 0px 1px 2px rgba(60, 64, 67, 0.3), 0px 1px 3px 1px rgba(60, 64, 67, 0.15);\n",
              "      fill: #174EA6;\n",
              "    }\n",
              "\n",
              "    [theme=dark] .colab-df-convert {\n",
              "      background-color: #3B4455;\n",
              "      fill: #D2E3FC;\n",
              "    }\n",
              "\n",
              "    [theme=dark] .colab-df-convert:hover {\n",
              "      background-color: #434B5C;\n",
              "      box-shadow: 0px 1px 3px 1px rgba(0, 0, 0, 0.15);\n",
              "      filter: drop-shadow(0px 1px 2px rgba(0, 0, 0, 0.3));\n",
              "      fill: #FFFFFF;\n",
              "    }\n",
              "  </style>\n",
              "\n",
              "      <script>\n",
              "        const buttonEl =\n",
              "          document.querySelector('#df-94202731-d969-4967-bcdd-d92f08c7cdb6 button.colab-df-convert');\n",
              "        buttonEl.style.display =\n",
              "          google.colab.kernel.accessAllowed ? 'block' : 'none';\n",
              "\n",
              "        async function convertToInteractive(key) {\n",
              "          const element = document.querySelector('#df-94202731-d969-4967-bcdd-d92f08c7cdb6');\n",
              "          const dataTable =\n",
              "            await google.colab.kernel.invokeFunction('convertToInteractive',\n",
              "                                                     [key], {});\n",
              "          if (!dataTable) return;\n",
              "\n",
              "          const docLinkHtml = 'Like what you see? Visit the ' +\n",
              "            '<a target=\"_blank\" href=https://colab.research.google.com/notebooks/data_table.ipynb>data table notebook</a>'\n",
              "            + ' to learn more about interactive tables.';\n",
              "          element.innerHTML = '';\n",
              "          dataTable['output_type'] = 'display_data';\n",
              "          await google.colab.output.renderOutput(dataTable, element);\n",
              "          const docLink = document.createElement('div');\n",
              "          docLink.innerHTML = docLinkHtml;\n",
              "          element.appendChild(docLink);\n",
              "        }\n",
              "      </script>\n",
              "    </div>\n",
              "  </div>\n",
              "  "
            ]
          },
          "metadata": {},
          "execution_count": 11
        }
      ]
    },
    {
      "cell_type": "markdown",
      "source": [
        "## part1: 程式實踐功能：查詢功能\n",
        "\n",
        "請實作輸入病患名字並查詢該病患資料，若沒查到則印出該名字的dataframe：\n",
        "\n",
        "若查無此人，就保持DataFrame沒有任何東西的狀態\n",
        "\n",
        "請在下方實作程式碼："
      ],
      "metadata": {
        "id": "z8vL0wVuZQo_"
      }
    },
    {
      "cell_type": "code",
      "source": [],
      "metadata": {
        "id": "tcc1U3_gbefJ",
        "colab": {
          "base_uri": "https://localhost:8080/",
          "height": 98
        },
        "outputId": "ad837e24-e35c-466a-c040-5123daee22db"
      },
      "execution_count": null,
      "outputs": [
        {
          "name": "stdout",
          "output_type": "stream",
          "text": [
            "請輸入名字，大小寫需一樣。Anna\n"
          ]
        },
        {
          "output_type": "execute_result",
          "data": {
            "text/plain": [
              "     名字   危險因子  年紀 腎功能不良             藥物     劑量     部位\n",
              "6  Anna  併用類固醇  76     女  Ciprofloxacin  500*1  阿基里斯腱"
            ],
            "text/html": [
              "\n",
              "  <div id=\"df-251e00a0-ebcb-4e6f-82b8-5e2c56d16319\">\n",
              "    <div class=\"colab-df-container\">\n",
              "      <div>\n",
              "<style scoped>\n",
              "    .dataframe tbody tr th:only-of-type {\n",
              "        vertical-align: middle;\n",
              "    }\n",
              "\n",
              "    .dataframe tbody tr th {\n",
              "        vertical-align: top;\n",
              "    }\n",
              "\n",
              "    .dataframe thead th {\n",
              "        text-align: right;\n",
              "    }\n",
              "</style>\n",
              "<table border=\"1\" class=\"dataframe\">\n",
              "  <thead>\n",
              "    <tr style=\"text-align: right;\">\n",
              "      <th></th>\n",
              "      <th>名字</th>\n",
              "      <th>危險因子</th>\n",
              "      <th>年紀</th>\n",
              "      <th>腎功能不良</th>\n",
              "      <th>藥物</th>\n",
              "      <th>劑量</th>\n",
              "      <th>部位</th>\n",
              "    </tr>\n",
              "  </thead>\n",
              "  <tbody>\n",
              "    <tr>\n",
              "      <th>6</th>\n",
              "      <td>Anna</td>\n",
              "      <td>併用類固醇</td>\n",
              "      <td>76</td>\n",
              "      <td>女</td>\n",
              "      <td>Ciprofloxacin</td>\n",
              "      <td>500*1</td>\n",
              "      <td>阿基里斯腱</td>\n",
              "    </tr>\n",
              "  </tbody>\n",
              "</table>\n",
              "</div>\n",
              "      <button class=\"colab-df-convert\" onclick=\"convertToInteractive('df-251e00a0-ebcb-4e6f-82b8-5e2c56d16319')\"\n",
              "              title=\"Convert this dataframe to an interactive table.\"\n",
              "              style=\"display:none;\">\n",
              "        \n",
              "  <svg xmlns=\"http://www.w3.org/2000/svg\" height=\"24px\"viewBox=\"0 0 24 24\"\n",
              "       width=\"24px\">\n",
              "    <path d=\"M0 0h24v24H0V0z\" fill=\"none\"/>\n",
              "    <path d=\"M18.56 5.44l.94 2.06.94-2.06 2.06-.94-2.06-.94-.94-2.06-.94 2.06-2.06.94zm-11 1L8.5 8.5l.94-2.06 2.06-.94-2.06-.94L8.5 2.5l-.94 2.06-2.06.94zm10 10l.94 2.06.94-2.06 2.06-.94-2.06-.94-.94-2.06-.94 2.06-2.06.94z\"/><path d=\"M17.41 7.96l-1.37-1.37c-.4-.4-.92-.59-1.43-.59-.52 0-1.04.2-1.43.59L10.3 9.45l-7.72 7.72c-.78.78-.78 2.05 0 2.83L4 21.41c.39.39.9.59 1.41.59.51 0 1.02-.2 1.41-.59l7.78-7.78 2.81-2.81c.8-.78.8-2.07 0-2.86zM5.41 20L4 18.59l7.72-7.72 1.47 1.35L5.41 20z\"/>\n",
              "  </svg>\n",
              "      </button>\n",
              "      \n",
              "  <style>\n",
              "    .colab-df-container {\n",
              "      display:flex;\n",
              "      flex-wrap:wrap;\n",
              "      gap: 12px;\n",
              "    }\n",
              "\n",
              "    .colab-df-convert {\n",
              "      background-color: #E8F0FE;\n",
              "      border: none;\n",
              "      border-radius: 50%;\n",
              "      cursor: pointer;\n",
              "      display: none;\n",
              "      fill: #1967D2;\n",
              "      height: 32px;\n",
              "      padding: 0 0 0 0;\n",
              "      width: 32px;\n",
              "    }\n",
              "\n",
              "    .colab-df-convert:hover {\n",
              "      background-color: #E2EBFA;\n",
              "      box-shadow: 0px 1px 2px rgba(60, 64, 67, 0.3), 0px 1px 3px 1px rgba(60, 64, 67, 0.15);\n",
              "      fill: #174EA6;\n",
              "    }\n",
              "\n",
              "    [theme=dark] .colab-df-convert {\n",
              "      background-color: #3B4455;\n",
              "      fill: #D2E3FC;\n",
              "    }\n",
              "\n",
              "    [theme=dark] .colab-df-convert:hover {\n",
              "      background-color: #434B5C;\n",
              "      box-shadow: 0px 1px 3px 1px rgba(0, 0, 0, 0.15);\n",
              "      filter: drop-shadow(0px 1px 2px rgba(0, 0, 0, 0.3));\n",
              "      fill: #FFFFFF;\n",
              "    }\n",
              "  </style>\n",
              "\n",
              "      <script>\n",
              "        const buttonEl =\n",
              "          document.querySelector('#df-251e00a0-ebcb-4e6f-82b8-5e2c56d16319 button.colab-df-convert');\n",
              "        buttonEl.style.display =\n",
              "          google.colab.kernel.accessAllowed ? 'block' : 'none';\n",
              "\n",
              "        async function convertToInteractive(key) {\n",
              "          const element = document.querySelector('#df-251e00a0-ebcb-4e6f-82b8-5e2c56d16319');\n",
              "          const dataTable =\n",
              "            await google.colab.kernel.invokeFunction('convertToInteractive',\n",
              "                                                     [key], {});\n",
              "          if (!dataTable) return;\n",
              "\n",
              "          const docLinkHtml = 'Like what you see? Visit the ' +\n",
              "            '<a target=\"_blank\" href=https://colab.research.google.com/notebooks/data_table.ipynb>data table notebook</a>'\n",
              "            + ' to learn more about interactive tables.';\n",
              "          element.innerHTML = '';\n",
              "          dataTable['output_type'] = 'display_data';\n",
              "          await google.colab.output.renderOutput(dataTable, element);\n",
              "          const docLink = document.createElement('div');\n",
              "          docLink.innerHTML = docLinkHtml;\n",
              "          element.appendChild(docLink);\n",
              "        }\n",
              "      </script>\n",
              "    </div>\n",
              "  </div>\n",
              "  "
            ]
          },
          "metadata": {},
          "execution_count": 7
        }
      ]
    },
    {
      "cell_type": "markdown",
      "source": [
        "## part2: 程式實踐功能：篩選功能\n",
        "* 你的程式能夠根據：\n",
        "  * 輸入：特定危險因子\n",
        "  * 輸入：篩選年齡下限\n",
        "  * 輸入：篩選年齡上限\n",
        "  * 輸入：特定藥物\n",
        "  * 輸入：特定性別\n",
        "  * 輸入：特定劑量下限\n",
        "  * 輸入：篩選劑量上限\n",
        "  * 輸入：特定部位(可複選 部位名稱)\n",
        "  去篩選出你想要的資料用dataframe印出來\n",
        "\n",
        "請在下方撰寫你的程式碼："
      ],
      "metadata": {
        "id": "ERU3JNCMfi3L"
      }
    },
    {
      "cell_type": "code",
      "source": [],
      "metadata": {
        "id": "MC2kfs6ufzfK"
      },
      "execution_count": null,
      "outputs": []
    },
    {
      "cell_type": "markdown",
      "source": [
        "### part3：程式實踐功能：排序功能\n",
        "請根據前面學到的排序，讓程式可根據以下優先順序排序：\n",
        "* 請實作排序功能，讓使用者選擇要排序的資料\n",
        "  *   全部資料\n",
        "  *   篩選資料\n",
        "* 依據下列去排序。\n",
        "  *   年紀\n",
        "  *   劑量\n",
        "* 再讓使用者選擇由小到大還由大到小。"
      ],
      "metadata": {
        "id": "pxuWcXj9QQ1X"
      }
    },
    {
      "cell_type": "code",
      "source": [],
      "metadata": {
        "id": "68--Bxs3QUyn"
      },
      "execution_count": null,
      "outputs": []
    },
    {
      "cell_type": "markdown",
      "source": [
        "## part 4: 程式實踐功能：分析功能\n",
        "* 可根據你的篩選功能，以程式輸出回答以下問題。\n",
        "    1. 請問哪個危險因子的平均年齡層最低？\n",
        "    2. 請問哪個藥物使用的病患最多？\n",
        "    3. 請問部位的部分，阿基里斯腱佔全部病患多少比例？\n",
        "    4. 想請問哪個危險因子的平均使用劑量最高？\n",
        "    5. 可自行挑一個點來分析。"
      ],
      "metadata": {
        "id": "6g3PYW0GZMBw"
      }
    },
    {
      "cell_type": "markdown",
      "source": [
        "第一題"
      ],
      "metadata": {
        "id": "kUgFf9Ljqyl1"
      }
    },
    {
      "cell_type": "code",
      "source": [],
      "metadata": {
        "id": "rhaXEC5SbbOm"
      },
      "execution_count": null,
      "outputs": []
    },
    {
      "cell_type": "markdown",
      "source": [
        "第二題"
      ],
      "metadata": {
        "id": "xkqB7ldUq0Qt"
      }
    },
    {
      "cell_type": "code",
      "source": [],
      "metadata": {
        "id": "GiKDhjRQhC4P"
      },
      "execution_count": null,
      "outputs": []
    },
    {
      "cell_type": "markdown",
      "source": [
        "第三題"
      ],
      "metadata": {
        "id": "0fNr_h-Cq1zE"
      }
    },
    {
      "cell_type": "code",
      "source": [],
      "metadata": {
        "id": "hPWsPZ7_g-or"
      },
      "execution_count": null,
      "outputs": []
    },
    {
      "cell_type": "markdown",
      "source": [
        "第四題"
      ],
      "metadata": {
        "id": "Mx6WElOCq39o"
      }
    },
    {
      "cell_type": "code",
      "source": [],
      "metadata": {
        "id": "aKFI1X3_nWpu"
      },
      "execution_count": null,
      "outputs": []
    }
  ]
}